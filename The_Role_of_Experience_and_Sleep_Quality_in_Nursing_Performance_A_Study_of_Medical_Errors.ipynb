{
  "nbformat": 4,
  "nbformat_minor": 0,
  "metadata": {
    "colab": {
      "provenance": [],
      "authorship_tag": "ABX9TyN9kz/wKOjf0H0tcOpXuQDa",
      "include_colab_link": true
    },
    "kernelspec": {
      "name": "python3",
      "display_name": "Python 3"
    },
    "language_info": {
      "name": "python"
    }
  },
  "cells": [
    {
      "cell_type": "markdown",
      "metadata": {
        "id": "view-in-github",
        "colab_type": "text"
      },
      "source": [
        "<a href=\"https://colab.research.google.com/github/Sanarazaaa/The-Role-of-Experience-and-Sleep-Quality-in-Nursing-Performance-A-Study-of-Medical-Errors/blob/main/The_Role_of_Experience_and_Sleep_Quality_in_Nursing_Performance_A_Study_of_Medical_Errors.ipynb\" target=\"_parent\"><img src=\"https://colab.research.google.com/assets/colab-badge.svg\" alt=\"Open In Colab\"/></a>"
      ]
    },
    {
      "cell_type": "code",
      "source": [
        "   !pip install pandas numpy matplotlib seaborn"
      ],
      "metadata": {
        "colab": {
          "base_uri": "https://localhost:8080/"
        },
        "id": "NaRLX6iJsz3s",
        "outputId": "f02d6a05-8526-4be6-b081-3a43f60e1448"
      },
      "execution_count": null,
      "outputs": [
        {
          "output_type": "stream",
          "name": "stdout",
          "text": [
            "Requirement already satisfied: pandas in /usr/local/lib/python3.10/dist-packages (2.2.2)\n",
            "Requirement already satisfied: numpy in /usr/local/lib/python3.10/dist-packages (1.26.4)\n",
            "Requirement already satisfied: matplotlib in /usr/local/lib/python3.10/dist-packages (3.8.0)\n",
            "Requirement already satisfied: seaborn in /usr/local/lib/python3.10/dist-packages (0.13.2)\n",
            "Requirement already satisfied: python-dateutil>=2.8.2 in /usr/local/lib/python3.10/dist-packages (from pandas) (2.8.2)\n",
            "Requirement already satisfied: pytz>=2020.1 in /usr/local/lib/python3.10/dist-packages (from pandas) (2024.2)\n",
            "Requirement already satisfied: tzdata>=2022.7 in /usr/local/lib/python3.10/dist-packages (from pandas) (2024.2)\n",
            "Requirement already satisfied: contourpy>=1.0.1 in /usr/local/lib/python3.10/dist-packages (from matplotlib) (1.3.1)\n",
            "Requirement already satisfied: cycler>=0.10 in /usr/local/lib/python3.10/dist-packages (from matplotlib) (0.12.1)\n",
            "Requirement already satisfied: fonttools>=4.22.0 in /usr/local/lib/python3.10/dist-packages (from matplotlib) (4.55.0)\n",
            "Requirement already satisfied: kiwisolver>=1.0.1 in /usr/local/lib/python3.10/dist-packages (from matplotlib) (1.4.7)\n",
            "Requirement already satisfied: packaging>=20.0 in /usr/local/lib/python3.10/dist-packages (from matplotlib) (24.2)\n",
            "Requirement already satisfied: pillow>=6.2.0 in /usr/local/lib/python3.10/dist-packages (from matplotlib) (11.0.0)\n",
            "Requirement already satisfied: pyparsing>=2.3.1 in /usr/local/lib/python3.10/dist-packages (from matplotlib) (3.2.0)\n",
            "Requirement already satisfied: six>=1.5 in /usr/local/lib/python3.10/dist-packages (from python-dateutil>=2.8.2->pandas) (1.16.0)\n"
          ]
        }
      ]
    },
    {
      "cell_type": "code",
      "source": [
        "   from google.colab import files\n",
        "   uploaded = files.upload()\n"
      ],
      "metadata": {
        "colab": {
          "base_uri": "https://localhost:8080/",
          "height": 73
        },
        "id": "1WWjAqAps2ZZ",
        "outputId": "a1a050c8-b619-4203-ff2a-ecb481328529"
      },
      "execution_count": null,
      "outputs": [
        {
          "output_type": "display_data",
          "data": {
            "text/plain": [
              "<IPython.core.display.HTML object>"
            ],
            "text/html": [
              "\n",
              "     <input type=\"file\" id=\"files-5e42c802-23a3-403e-b249-a2cc8405a7f8\" name=\"files[]\" multiple disabled\n",
              "        style=\"border:none\" />\n",
              "     <output id=\"result-5e42c802-23a3-403e-b249-a2cc8405a7f8\">\n",
              "      Upload widget is only available when the cell has been executed in the\n",
              "      current browser session. Please rerun this cell to enable.\n",
              "      </output>\n",
              "      <script>// Copyright 2017 Google LLC\n",
              "//\n",
              "// Licensed under the Apache License, Version 2.0 (the \"License\");\n",
              "// you may not use this file except in compliance with the License.\n",
              "// You may obtain a copy of the License at\n",
              "//\n",
              "//      http://www.apache.org/licenses/LICENSE-2.0\n",
              "//\n",
              "// Unless required by applicable law or agreed to in writing, software\n",
              "// distributed under the License is distributed on an \"AS IS\" BASIS,\n",
              "// WITHOUT WARRANTIES OR CONDITIONS OF ANY KIND, either express or implied.\n",
              "// See the License for the specific language governing permissions and\n",
              "// limitations under the License.\n",
              "\n",
              "/**\n",
              " * @fileoverview Helpers for google.colab Python module.\n",
              " */\n",
              "(function(scope) {\n",
              "function span(text, styleAttributes = {}) {\n",
              "  const element = document.createElement('span');\n",
              "  element.textContent = text;\n",
              "  for (const key of Object.keys(styleAttributes)) {\n",
              "    element.style[key] = styleAttributes[key];\n",
              "  }\n",
              "  return element;\n",
              "}\n",
              "\n",
              "// Max number of bytes which will be uploaded at a time.\n",
              "const MAX_PAYLOAD_SIZE = 100 * 1024;\n",
              "\n",
              "function _uploadFiles(inputId, outputId) {\n",
              "  const steps = uploadFilesStep(inputId, outputId);\n",
              "  const outputElement = document.getElementById(outputId);\n",
              "  // Cache steps on the outputElement to make it available for the next call\n",
              "  // to uploadFilesContinue from Python.\n",
              "  outputElement.steps = steps;\n",
              "\n",
              "  return _uploadFilesContinue(outputId);\n",
              "}\n",
              "\n",
              "// This is roughly an async generator (not supported in the browser yet),\n",
              "// where there are multiple asynchronous steps and the Python side is going\n",
              "// to poll for completion of each step.\n",
              "// This uses a Promise to block the python side on completion of each step,\n",
              "// then passes the result of the previous step as the input to the next step.\n",
              "function _uploadFilesContinue(outputId) {\n",
              "  const outputElement = document.getElementById(outputId);\n",
              "  const steps = outputElement.steps;\n",
              "\n",
              "  const next = steps.next(outputElement.lastPromiseValue);\n",
              "  return Promise.resolve(next.value.promise).then((value) => {\n",
              "    // Cache the last promise value to make it available to the next\n",
              "    // step of the generator.\n",
              "    outputElement.lastPromiseValue = value;\n",
              "    return next.value.response;\n",
              "  });\n",
              "}\n",
              "\n",
              "/**\n",
              " * Generator function which is called between each async step of the upload\n",
              " * process.\n",
              " * @param {string} inputId Element ID of the input file picker element.\n",
              " * @param {string} outputId Element ID of the output display.\n",
              " * @return {!Iterable<!Object>} Iterable of next steps.\n",
              " */\n",
              "function* uploadFilesStep(inputId, outputId) {\n",
              "  const inputElement = document.getElementById(inputId);\n",
              "  inputElement.disabled = false;\n",
              "\n",
              "  const outputElement = document.getElementById(outputId);\n",
              "  outputElement.innerHTML = '';\n",
              "\n",
              "  const pickedPromise = new Promise((resolve) => {\n",
              "    inputElement.addEventListener('change', (e) => {\n",
              "      resolve(e.target.files);\n",
              "    });\n",
              "  });\n",
              "\n",
              "  const cancel = document.createElement('button');\n",
              "  inputElement.parentElement.appendChild(cancel);\n",
              "  cancel.textContent = 'Cancel upload';\n",
              "  const cancelPromise = new Promise((resolve) => {\n",
              "    cancel.onclick = () => {\n",
              "      resolve(null);\n",
              "    };\n",
              "  });\n",
              "\n",
              "  // Wait for the user to pick the files.\n",
              "  const files = yield {\n",
              "    promise: Promise.race([pickedPromise, cancelPromise]),\n",
              "    response: {\n",
              "      action: 'starting',\n",
              "    }\n",
              "  };\n",
              "\n",
              "  cancel.remove();\n",
              "\n",
              "  // Disable the input element since further picks are not allowed.\n",
              "  inputElement.disabled = true;\n",
              "\n",
              "  if (!files) {\n",
              "    return {\n",
              "      response: {\n",
              "        action: 'complete',\n",
              "      }\n",
              "    };\n",
              "  }\n",
              "\n",
              "  for (const file of files) {\n",
              "    const li = document.createElement('li');\n",
              "    li.append(span(file.name, {fontWeight: 'bold'}));\n",
              "    li.append(span(\n",
              "        `(${file.type || 'n/a'}) - ${file.size} bytes, ` +\n",
              "        `last modified: ${\n",
              "            file.lastModifiedDate ? file.lastModifiedDate.toLocaleDateString() :\n",
              "                                    'n/a'} - `));\n",
              "    const percent = span('0% done');\n",
              "    li.appendChild(percent);\n",
              "\n",
              "    outputElement.appendChild(li);\n",
              "\n",
              "    const fileDataPromise = new Promise((resolve) => {\n",
              "      const reader = new FileReader();\n",
              "      reader.onload = (e) => {\n",
              "        resolve(e.target.result);\n",
              "      };\n",
              "      reader.readAsArrayBuffer(file);\n",
              "    });\n",
              "    // Wait for the data to be ready.\n",
              "    let fileData = yield {\n",
              "      promise: fileDataPromise,\n",
              "      response: {\n",
              "        action: 'continue',\n",
              "      }\n",
              "    };\n",
              "\n",
              "    // Use a chunked sending to avoid message size limits. See b/62115660.\n",
              "    let position = 0;\n",
              "    do {\n",
              "      const length = Math.min(fileData.byteLength - position, MAX_PAYLOAD_SIZE);\n",
              "      const chunk = new Uint8Array(fileData, position, length);\n",
              "      position += length;\n",
              "\n",
              "      const base64 = btoa(String.fromCharCode.apply(null, chunk));\n",
              "      yield {\n",
              "        response: {\n",
              "          action: 'append',\n",
              "          file: file.name,\n",
              "          data: base64,\n",
              "        },\n",
              "      };\n",
              "\n",
              "      let percentDone = fileData.byteLength === 0 ?\n",
              "          100 :\n",
              "          Math.round((position / fileData.byteLength) * 100);\n",
              "      percent.textContent = `${percentDone}% done`;\n",
              "\n",
              "    } while (position < fileData.byteLength);\n",
              "  }\n",
              "\n",
              "  // All done.\n",
              "  yield {\n",
              "    response: {\n",
              "      action: 'complete',\n",
              "    }\n",
              "  };\n",
              "}\n",
              "\n",
              "scope.google = scope.google || {};\n",
              "scope.google.colab = scope.google.colab || {};\n",
              "scope.google.colab._files = {\n",
              "  _uploadFiles,\n",
              "  _uploadFilesContinue,\n",
              "};\n",
              "})(self);\n",
              "</script> "
            ]
          },
          "metadata": {}
        },
        {
          "output_type": "stream",
          "name": "stdout",
          "text": [
            "Saving Sleep Quality Main Data Sheet.sav to Sleep Quality Main Data Sheet (2).sav\n"
          ]
        }
      ]
    },
    {
      "cell_type": "code",
      "source": [
        "import pyreadstat\n",
        "\n",
        "   # Load the dataset (replace with your actual file name)\n",
        "df, meta = pyreadstat.read_sav('Sleep Quality Main Data Sheet (1).sav')  # Ensure the file name matches exactly"
      ],
      "metadata": {
        "id": "H3KQirhKvRLq"
      },
      "execution_count": null,
      "outputs": []
    },
    {
      "cell_type": "code",
      "source": [
        "print(df.head())\n",
        "print(df.info())"
      ],
      "metadata": {
        "colab": {
          "base_uri": "https://localhost:8080/"
        },
        "id": "EjopPWK-Ik2d",
        "outputId": "a69e2960-9b71-4db0-d63f-b8bc5a745156"
      },
      "execution_count": null,
      "outputs": [
        {
          "output_type": "stream",
          "name": "stdout",
          "text": [
            "   Institute  Gender  Age1  Age   MS  Kids   Ex1  Experience   Q1   Q2  ...  \\\n",
            "0        1.0     1.0  27.0  0.0  0.0   0.0   1.0         0.0  0.0  0.0  ...   \n",
            "1        0.0     1.0  27.0  0.0  0.0   0.0   1.0         0.0  0.0  1.0  ...   \n",
            "2        0.0     1.0  30.0  1.0  0.0   0.0   8.0         1.0  0.0  0.0  ...   \n",
            "3        0.0     0.0  37.0  1.0  1.0   1.0  11.0         2.0  0.0  0.0  ...   \n",
            "4        0.0     1.0  27.0  0.0  1.0   0.0   2.0         0.0  0.0  0.0  ...   \n",
            "\n",
            "    HRS   HRB   CS   TS    ME  MEC   MOE  MOEC   SE  SEC  \n",
            "0   7.5   9.0  1.0  2.0  20.0  1.0  15.0   1.0  0.0  0.0  \n",
            "1   7.0   7.0  0.0  0.0  79.0  4.0  45.0   2.0  0.0  0.0  \n",
            "2   4.0   6.0  1.0  2.0  41.0  2.0  41.0   2.0  0.0  0.0  \n",
            "3   6.0   6.5  1.0  2.0   0.0  0.0   0.0   0.0  0.0  0.0  \n",
            "4  10.5  10.5  0.0  0.0   0.0  0.0   0.0   0.0  0.0  0.0  \n",
            "\n",
            "[5 rows x 38 columns]\n",
            "<class 'pandas.core.frame.DataFrame'>\n",
            "RangeIndex: 281 entries, 0 to 280\n",
            "Data columns (total 38 columns):\n",
            " #   Column      Non-Null Count  Dtype  \n",
            "---  ------      --------------  -----  \n",
            " 0   Institute   279 non-null    float64\n",
            " 1   Gender      279 non-null    float64\n",
            " 2   Age1        279 non-null    float64\n",
            " 3   Age         279 non-null    float64\n",
            " 4   MS          279 non-null    float64\n",
            " 5   Kids        279 non-null    float64\n",
            " 6   Ex1         279 non-null    float64\n",
            " 7   Experience  279 non-null    float64\n",
            " 8   Q1          279 non-null    float64\n",
            " 9   Q2          279 non-null    float64\n",
            " 10  DS1         279 non-null    float64\n",
            " 11  DS2         279 non-null    float64\n",
            " 12  NS          279 non-null    float64\n",
            " 13  TSW         279 non-null    float64\n",
            " 14  ANS         279 non-null    float64\n",
            " 15  RT          279 non-null    float64\n",
            " 16  RH          279 non-null    float64\n",
            " 17  VS          279 non-null    float64\n",
            " 18  PN          279 non-null    float64\n",
            " 19  C1          279 non-null    float64\n",
            " 20  C2          279 non-null    float64\n",
            " 21  C3          279 non-null    float64\n",
            " 22  C4          279 non-null    float64\n",
            " 23  C5          279 non-null    float64\n",
            " 24  C6          279 non-null    float64\n",
            " 25  C7          279 non-null    float64\n",
            " 26  PSQI        279 non-null    float64\n",
            " 27  SQ          279 non-null    float64\n",
            " 28  HRS         279 non-null    float64\n",
            " 29  HRB         279 non-null    float64\n",
            " 30  CS          279 non-null    float64\n",
            " 31  TS          279 non-null    float64\n",
            " 32  ME          279 non-null    float64\n",
            " 33  MEC         279 non-null    float64\n",
            " 34  MOE         279 non-null    float64\n",
            " 35  MOEC        279 non-null    float64\n",
            " 36  SE          279 non-null    float64\n",
            " 37  SEC         279 non-null    float64\n",
            "dtypes: float64(38)\n",
            "memory usage: 83.5 KB\n",
            "None\n"
          ]
        }
      ]
    },
    {
      "cell_type": "code",
      "source": [
        "!pip install pyreadstat"
      ],
      "metadata": {
        "colab": {
          "base_uri": "https://localhost:8080/"
        },
        "id": "zqFr2QXPIGIO",
        "outputId": "5a781dec-446d-4584-c903-eb60a0050df3"
      },
      "execution_count": null,
      "outputs": [
        {
          "output_type": "stream",
          "name": "stdout",
          "text": [
            "Collecting pyreadstat\n",
            "  Downloading pyreadstat-1.2.8-cp310-cp310-manylinux_2_17_x86_64.manylinux2014_x86_64.whl.metadata (1.0 kB)\n",
            "Requirement already satisfied: pandas>=1.2.0 in /usr/local/lib/python3.10/dist-packages (from pyreadstat) (2.2.2)\n",
            "Requirement already satisfied: numpy>=1.22.4 in /usr/local/lib/python3.10/dist-packages (from pandas>=1.2.0->pyreadstat) (1.26.4)\n",
            "Requirement already satisfied: python-dateutil>=2.8.2 in /usr/local/lib/python3.10/dist-packages (from pandas>=1.2.0->pyreadstat) (2.8.2)\n",
            "Requirement already satisfied: pytz>=2020.1 in /usr/local/lib/python3.10/dist-packages (from pandas>=1.2.0->pyreadstat) (2024.2)\n",
            "Requirement already satisfied: tzdata>=2022.7 in /usr/local/lib/python3.10/dist-packages (from pandas>=1.2.0->pyreadstat) (2024.2)\n",
            "Requirement already satisfied: six>=1.5 in /usr/local/lib/python3.10/dist-packages (from python-dateutil>=2.8.2->pandas>=1.2.0->pyreadstat) (1.16.0)\n",
            "Downloading pyreadstat-1.2.8-cp310-cp310-manylinux_2_17_x86_64.manylinux2014_x86_64.whl (2.8 MB)\n",
            "\u001b[?25l   \u001b[90m━━━━━━━━━━━━━━━━━━━━━━━━━━━━━━━━━━━━━━━━\u001b[0m \u001b[32m0.0/2.8 MB\u001b[0m \u001b[31m?\u001b[0m eta \u001b[36m-:--:--\u001b[0m\r\u001b[2K   \u001b[91m━━\u001b[0m\u001b[91m╸\u001b[0m\u001b[90m━━━━━━━━━━━━━━━━━━━━━━━━━━━━━━━━━━━━━\u001b[0m \u001b[32m0.2/2.8 MB\u001b[0m \u001b[31m6.6 MB/s\u001b[0m eta \u001b[36m0:00:01\u001b[0m\r\u001b[2K   \u001b[91m━━━━━━━━━━━━━━━━━━━━━━━━━━━━━━━━━━━━━━━\u001b[0m\u001b[91m╸\u001b[0m \u001b[32m2.8/2.8 MB\u001b[0m \u001b[31m43.1 MB/s\u001b[0m eta \u001b[36m0:00:01\u001b[0m\r\u001b[2K   \u001b[90m━━━━━━━━━━━━━━━━━━━━━━━━━━━━━━━━━━━━━━━━\u001b[0m \u001b[32m2.8/2.8 MB\u001b[0m \u001b[31m32.7 MB/s\u001b[0m eta \u001b[36m0:00:00\u001b[0m\n",
            "\u001b[?25hInstalling collected packages: pyreadstat\n",
            "Successfully installed pyreadstat-1.2.8\n"
          ]
        }
      ]
    },
    {
      "cell_type": "code",
      "source": [
        "   print(df.describe())\n",
        "   print(df.info())"
      ],
      "metadata": {
        "colab": {
          "base_uri": "https://localhost:8080/"
        },
        "id": "IwNvcyhWviQW",
        "outputId": "339c7bfe-4460-43d1-8494-94731dce2ea4"
      },
      "execution_count": null,
      "outputs": [
        {
          "output_type": "stream",
          "name": "stdout",
          "text": [
            "       What is your year of birth?  \\\n",
            "count                    14.000000   \n",
            "mean                   1994.428571   \n",
            "std                       6.925030   \n",
            "min                    1981.000000   \n",
            "25%                    1990.500000   \n",
            "50%                    1997.000000   \n",
            "75%                    1999.000000   \n",
            "max                    2004.000000   \n",
            "\n",
            "       2. During the past month, how long has it usually taken you to fall asleep each night?  \\\n",
            "count                                          14.000000                                        \n",
            "mean                                            0.857143                                        \n",
            "std                                             0.864438                                        \n",
            "min                                             0.000000                                        \n",
            "25%                                             0.000000                                        \n",
            "50%                                             1.000000                                        \n",
            "75%                                             1.750000                                        \n",
            "max                                             2.000000                                        \n",
            "\n",
            "       4. During the past month, how many hours of actual sleep did you get at night?  \\\n",
            "count                                          14.000000                                \n",
            "mean                                            1.142857                                \n",
            "std                                             1.292412                                \n",
            "min                                             0.000000                                \n",
            "25%                                             0.000000                                \n",
            "50%                                             0.500000                                \n",
            "75%                                             2.000000                                \n",
            "max                                             3.000000                                \n",
            "\n",
            "       6. During the past month, how would you rate your sleep quality overall?   \\\n",
            "count                                          14.000000                           \n",
            "mean                                            1.071429                           \n",
            "std                                             0.997249                           \n",
            "min                                             0.000000                           \n",
            "25%                                             0.000000                           \n",
            "50%                                             1.000000                           \n",
            "75%                                             2.000000                           \n",
            "max                                             3.000000                           \n",
            "\n",
            "       7. During the past month, how often have you taken medicine to help you sleep?  \\\n",
            "count                                          14.000000                                \n",
            "mean                                            0.428571                                \n",
            "std                                             0.937614                                \n",
            "min                                             0.000000                                \n",
            "25%                                             0.000000                                \n",
            "50%                                             0.000000                                \n",
            "75%                                             0.000000                                \n",
            "max                                             3.000000                                \n",
            "\n",
            "       8. During the past month, how often have you had trouble staying awake while driving, eating meals, or engaging in social activity?   \\\n",
            "count                                          14.000000                                                                                      \n",
            "mean                                            0.571429                                                                                      \n",
            "std                                             0.755929                                                                                      \n",
            "min                                             0.000000                                                                                      \n",
            "25%                                             0.000000                                                                                      \n",
            "50%                                             0.000000                                                                                      \n",
            "75%                                             1.000000                                                                                      \n",
            "max                                             2.000000                                                                                      \n",
            "\n",
            "       9. During the past month, how much of a problem has it been for you to keep up enough enthusiasm to get things done?  \\\n",
            "count                                          14.000000                                                                      \n",
            "mean                                            1.142857                                                                      \n",
            "std                                             1.099450                                                                      \n",
            "min                                             0.000000                                                                      \n",
            "25%                                             0.000000                                                                      \n",
            "50%                                             1.500000                                                                      \n",
            "75%                                             2.000000                                                                      \n",
            "max                                             3.000000                                                                      \n",
            "\n",
            "       In general, how much do you trust people you meet for the first time?  \\\n",
            "count                                          14.000000                       \n",
            "mean                                            2.714286                       \n",
            "std                                             0.825420                       \n",
            "min                                             1.000000                       \n",
            "25%                                             2.000000                       \n",
            "50%                                             3.000000                       \n",
            "75%                                             3.000000                       \n",
            "max                                             4.000000                       \n",
            "\n",
            "       How willing are you to take risks in your daily life?  \\\n",
            "count                                          14.000000       \n",
            "mean                                            2.857143       \n",
            "std                                             1.027105       \n",
            "min                                             1.000000       \n",
            "25%                                             2.000000       \n",
            "50%                                             3.000000       \n",
            "75%                                             3.000000       \n",
            "max                                             5.000000       \n",
            "\n",
            "       How often do you prioritize group interests over personal interests in decision-making?  \\\n",
            "count                                          14.000000                                         \n",
            "mean                                            2.571429                                         \n",
            "std                                             1.016350                                         \n",
            "min                                             1.000000                                         \n",
            "25%                                             2.000000                                         \n",
            "50%                                             2.500000                                         \n",
            "75%                                             3.000000                                         \n",
            "max                                             4.000000                                         \n",
            "\n",
            "       How much do your friends influence your decisions?  \\\n",
            "count                                          14.000000    \n",
            "mean                                            3.285714    \n",
            "std                                             1.266647    \n",
            "min                                             1.000000    \n",
            "25%                                             2.250000    \n",
            "50%                                             3.000000    \n",
            "75%                                             4.000000    \n",
            "max                                             5.000000    \n",
            "\n",
            "       How often do you consider the ethical implications of your decisions?  \\\n",
            "count                                            14.0000                       \n",
            "mean                                              3.0000                       \n",
            "std                                               1.1094                       \n",
            "min                                               1.0000                       \n",
            "25%                                               2.0000                       \n",
            "50%                                               3.0000                       \n",
            "75%                                               4.0000                       \n",
            "max                                               5.0000                       \n",
            "\n",
            "       How often do you feel regret after making a decision?  \\\n",
            "count                                          14.000000       \n",
            "mean                                            2.071429       \n",
            "std                                             1.206666       \n",
            "min                                             1.000000       \n",
            "25%                                             1.000000       \n",
            "50%                                             2.000000       \n",
            "75%                                             2.750000       \n",
            "max                                             4.000000       \n",
            "\n",
            "       How well do you make decisions when under pressure?  \\\n",
            "count                                          14.000000     \n",
            "mean                                            1.928571     \n",
            "std                                             0.916875     \n",
            "min                                             1.000000     \n",
            "25%                                             1.000000     \n",
            "50%                                             2.000000     \n",
            "75%                                             3.000000     \n",
            "max                                             3.000000     \n",
            "\n",
            "       When making decisions, do you focus more on short-term benefits or long-term consequences?  \\\n",
            "count                                          14.000000                                            \n",
            "mean                                            2.285714                                            \n",
            "std                                             1.266647                                            \n",
            "min                                             1.000000                                            \n",
            "25%                                             1.000000                                            \n",
            "50%                                             2.000000                                            \n",
            "75%                                             3.000000                                            \n",
            "max                                             5.000000                                            \n",
            "\n",
            "       How aware are you of cognitive biases that may affect your decision-making?  \\\n",
            "count                                          14.000000                             \n",
            "mean                                            2.285714                             \n",
            "std                                             1.266647                             \n",
            "min                                             1.000000                             \n",
            "25%                                             1.000000                             \n",
            "50%                                             2.000000                             \n",
            "75%                                             3.000000                             \n",
            "max                                             5.000000                             \n",
            "\n",
            "       How often do you consider the ethical implications of your decisions?.1  \n",
            "count                                          14.000000                        \n",
            "mean                                            3.000000                        \n",
            "std                                             1.176697                        \n",
            "min                                             1.000000                        \n",
            "25%                                             2.000000                        \n",
            "50%                                             3.000000                        \n",
            "75%                                             3.750000                        \n",
            "max                                             5.000000                        \n",
            "<class 'pandas.core.frame.DataFrame'>\n",
            "RangeIndex: 14 entries, 0 to 13\n",
            "Data columns (total 35 columns):\n",
            " #   Column                                                                                                                                                          Non-Null Count  Dtype \n",
            "---  ------                                                                                                                                                          --------------  ----- \n",
            " 0   Please select your city.                                                                                                                                        14 non-null     object\n",
            " 1   Where do you live in Karachi?                                                                                                                                   13 non-null     object\n",
            " 2   What is your gender?                                                                                                                                            14 non-null     object\n",
            " 3   What is your year of birth?                                                                                                                                     14 non-null     int64 \n",
            " 4   What is your highest level of education?                                                                                                                        14 non-null     object\n",
            " 5   What is your marital status?                                                                                                                                    14 non-null     object\n",
            " 6   1. During the past month, what time have you usually gone to bed at night?                                                                                      14 non-null     object\n",
            " 7   2. During the past month, how long has it usually taken you to fall asleep each night?                                                                          14 non-null     int64 \n",
            " 8   3. During the past month, what time have you usually gotten up in the morning?                                                                                  14 non-null     object\n",
            " 9   4. During the past month, how many hours of actual sleep did you get at night?                                                                                  14 non-null     int64 \n",
            " 10  5. During the past month, how often have you had trouble sleeping because you…  [Cannot get to sleep in 30 minutes(آپ کو 30 منٹ میں نیند نہیں آسکتی )]          14 non-null     object\n",
            " 11  5. During the past month, how often have you had trouble sleeping because you…  [Wake up in the middle of the night(آپ آدھی رات کو جاگ جاتے ہیں)]               14 non-null     object\n",
            " 12  5. During the past month, how often have you had trouble sleeping because you…  [Have to get up to use the bathroom(آپ کو باتھ روم جانے کے لئے اٹھنا پڑتا ہے)]  14 non-null     object\n",
            " 13  5. During the past month, how often have you had trouble sleeping because you…  [Cannot breathe comfortably(آپ آرام سے سانس نہیں لے پاتے)]                      14 non-null     object\n",
            " 14  5. During the past month, how often have you had trouble sleeping because you…  [Cough or snore loudly(آپ کو کھانسی ہوتی ہے یا آپ خراٹے لیتے ہیں)]              14 non-null     object\n",
            " 15  5. During the past month, how often have you had trouble sleeping because you…  [Feel too cold(آپ کو سردی زیادہ لگتی ہے)]                                       14 non-null     object\n",
            " 16  5. During the past month, how often have you had trouble sleeping because you…  [Feel too hot(آپ کو گرمی زیادہ لگتی ہے)]                                        14 non-null     object\n",
            " 17  5. During the past month, how often have you had trouble sleeping because you…  [Have bad dreams(آپ کو برے خواب آتے ہیں)]                                       14 non-null     object\n",
            " 18  5. During the past month, how often have you had trouble sleeping because you…  [Have pain(آپ کو کہیں درد ہوتا ہے)]                                             14 non-null     object\n",
            " 19  5. During the past month, how often have you had trouble sleeping because you…  [Other reasons(دوسری وجوہات کی وجہ سے)]                                         14 non-null     object\n",
            " 20  6. During the past month, how would you rate your sleep quality overall?                                                                                        14 non-null     int64 \n",
            " 21  7. During the past month, how often have you taken medicine to help you sleep?                                                                                  14 non-null     int64 \n",
            " 22  8. During the past month, how often have you had trouble staying awake while driving, eating meals, or engaging in social activity?                             14 non-null     int64 \n",
            " 23  9. During the past month, how much of a problem has it been for you to keep up enough enthusiasm to get things done?                                            14 non-null     int64 \n",
            " 24  In general, how much do you trust people you meet for the first time?                                                                                           14 non-null     int64 \n",
            " 25  How willing are you to take risks in your daily life?                                                                                                           14 non-null     int64 \n",
            " 26  When making decisions, do you rely more on intuition or analysis?                                                                                               14 non-null     object\n",
            " 27  How often do you prioritize group interests over personal interests in decision-making?                                                                         14 non-null     int64 \n",
            " 28  How much do your friends influence your decisions?                                                                                                              14 non-null     int64 \n",
            " 29  How often do you consider the ethical implications of your decisions?                                                                                           14 non-null     int64 \n",
            " 30  How often do you feel regret after making a decision?                                                                                                           14 non-null     int64 \n",
            " 31  How well do you make decisions when under pressure?                                                                                                             14 non-null     int64 \n",
            " 32  When making decisions, do you focus more on short-term benefits or long-term consequences?                                                                      14 non-null     int64 \n",
            " 33  How aware are you of cognitive biases that may affect your decision-making?                                                                                     14 non-null     int64 \n",
            " 34  How often do you consider the ethical implications of your decisions?.1                                                                                         14 non-null     int64 \n",
            "dtypes: int64(17), object(18)\n",
            "memory usage: 4.0+ KB\n",
            "None\n"
          ]
        }
      ]
    },
    {
      "cell_type": "code",
      "source": [
        "print(df.isnull().sum())"
      ],
      "metadata": {
        "colab": {
          "base_uri": "https://localhost:8080/"
        },
        "id": "Ub2i4HGnIxbg",
        "outputId": "0a7333ed-b047-4178-c2d1-ed01964b5bb8"
      },
      "execution_count": null,
      "outputs": [
        {
          "output_type": "stream",
          "name": "stdout",
          "text": [
            "Institute     2\n",
            "Gender        2\n",
            "Age1          2\n",
            "Age           2\n",
            "MS            2\n",
            "Kids          2\n",
            "Ex1           2\n",
            "Experience    2\n",
            "Q1            2\n",
            "Q2            2\n",
            "DS1           2\n",
            "DS2           2\n",
            "NS            2\n",
            "TSW           2\n",
            "ANS           2\n",
            "RT            2\n",
            "RH            2\n",
            "VS            2\n",
            "PN            2\n",
            "C1            2\n",
            "C2            2\n",
            "C3            2\n",
            "C4            2\n",
            "C5            2\n",
            "C6            2\n",
            "C7            2\n",
            "PSQI          2\n",
            "SQ            2\n",
            "HRS           2\n",
            "HRB           2\n",
            "CS            2\n",
            "TS            2\n",
            "ME            2\n",
            "MEC           2\n",
            "MOE           2\n",
            "MOEC          2\n",
            "SE            2\n",
            "SEC           2\n",
            "dtype: int64\n"
          ]
        }
      ]
    },
    {
      "cell_type": "code",
      "source": [
        "df.dropna(inplace=True)\n",
        "df.dropna(axis=1, inplace=True)"
      ],
      "metadata": {
        "id": "yaRj973jI_I2"
      },
      "execution_count": null,
      "outputs": []
    },
    {
      "cell_type": "code",
      "source": [
        "print(df.isnull().sum())"
      ],
      "metadata": {
        "colab": {
          "base_uri": "https://localhost:8080/"
        },
        "id": "XE6pamXDvnFc",
        "outputId": "4ca3d131-f544-4b77-ba59-75d8403b4204"
      },
      "execution_count": null,
      "outputs": [
        {
          "output_type": "stream",
          "name": "stdout",
          "text": [
            "Please select your city.                                                                                                                                          0\n",
            "Where do you live in Karachi?                                                                                                                                     1\n",
            "What is your gender?                                                                                                                                              0\n",
            "What is your year of birth?                                                                                                                                       0\n",
            "What is your highest level of education?                                                                                                                          0\n",
            "What is your marital status?                                                                                                                                      0\n",
            "1. During the past month, what time have you usually gone to bed at night?                                                                                        0\n",
            "2. During the past month, how long has it usually taken you to fall asleep each night?                                                                            0\n",
            "3. During the past month, what time have you usually gotten up in the morning?                                                                                    0\n",
            "4. During the past month, how many hours of actual sleep did you get at night?                                                                                    0\n",
            "5. During the past month, how often have you had trouble sleeping because you…  [Cannot get to sleep in 30 minutes(آپ کو 30 منٹ میں نیند نہیں آسکتی )]            0\n",
            "5. During the past month, how often have you had trouble sleeping because you…  [Wake up in the middle of the night(آپ آدھی رات کو جاگ جاتے ہیں)]                 0\n",
            "5. During the past month, how often have you had trouble sleeping because you…  [Have to get up to use the bathroom(آپ کو باتھ روم جانے کے لئے اٹھنا پڑتا ہے)]    0\n",
            "5. During the past month, how often have you had trouble sleeping because you…  [Cannot breathe comfortably(آپ آرام سے سانس نہیں لے پاتے)]                        0\n",
            "5. During the past month, how often have you had trouble sleeping because you…  [Cough or snore loudly(آپ کو کھانسی ہوتی ہے یا آپ خراٹے لیتے ہیں)]                0\n",
            "5. During the past month, how often have you had trouble sleeping because you…  [Feel too cold(آپ کو سردی زیادہ لگتی ہے)]                                         0\n",
            "5. During the past month, how often have you had trouble sleeping because you…  [Feel too hot(آپ کو گرمی زیادہ لگتی ہے)]                                          0\n",
            "5. During the past month, how often have you had trouble sleeping because you…  [Have bad dreams(آپ کو برے خواب آتے ہیں)]                                         0\n",
            "5. During the past month, how often have you had trouble sleeping because you…  [Have pain(آپ کو کہیں درد ہوتا ہے)]                                               0\n",
            "5. During the past month, how often have you had trouble sleeping because you…  [Other reasons(دوسری وجوہات کی وجہ سے)]                                           0\n",
            "6. During the past month, how would you rate your sleep quality overall?                                                                                          0\n",
            "7. During the past month, how often have you taken medicine to help you sleep?                                                                                    0\n",
            "8. During the past month, how often have you had trouble staying awake while driving, eating meals, or engaging in social activity?                               0\n",
            "9. During the past month, how much of a problem has it been for you to keep up enough enthusiasm to get things done?                                              0\n",
            "In general, how much do you trust people you meet for the first time?                                                                                             0\n",
            "How willing are you to take risks in your daily life?                                                                                                             0\n",
            "When making decisions, do you rely more on intuition or analysis?                                                                                                 0\n",
            "How often do you prioritize group interests over personal interests in decision-making?                                                                           0\n",
            "How much do your friends influence your decisions?                                                                                                                0\n",
            "How often do you consider the ethical implications of your decisions?                                                                                             0\n",
            "How often do you feel regret after making a decision?                                                                                                             0\n",
            "How well do you make decisions when under pressure?                                                                                                               0\n",
            "When making decisions, do you focus more on short-term benefits or long-term consequences?                                                                        0\n",
            "How aware are you of cognitive biases that may affect your decision-making?                                                                                       0\n",
            "How often do you consider the ethical implications of your decisions?.1                                                                                           0\n",
            "dtype: int64\n"
          ]
        }
      ]
    },
    {
      "cell_type": "code",
      "source": [
        "   print(df.columns)"
      ],
      "metadata": {
        "colab": {
          "base_uri": "https://localhost:8080/"
        },
        "id": "CZ3CE_dfJQLq",
        "outputId": "f3c6fd0f-8b35-4d96-beb7-c17f28af4b70"
      },
      "execution_count": null,
      "outputs": [
        {
          "output_type": "stream",
          "name": "stdout",
          "text": [
            "Index(['Institute', 'Gender', 'Age1', 'Age', 'MS', 'Kids', 'Ex1', 'Experience',\n",
            "       'Q1', 'Q2', 'DS1', 'DS2', 'NS', 'TSW', 'ANS', 'RT', 'RH', 'VS', 'PN',\n",
            "       'C1', 'C2', 'C3', 'C4', 'C5', 'C6', 'C7', 'PSQI', 'SQ', 'HRS', 'HRB',\n",
            "       'CS', 'TS', 'ME', 'MEC', 'MOE', 'MOEC', 'SE', 'SEC'],\n",
            "      dtype='object')\n"
          ]
        }
      ]
    },
    {
      "cell_type": "code",
      "source": [
        "   import matplotlib.pyplot as plt\n",
        "   import seaborn as sns\n",
        "\n",
        "   plt.figure(figsize=(10, 5))\n",
        "   sns.histplot(df['PSQI'], bins=10, kde=True)\n",
        "   plt.title('Distribution of Global PSQI Score')\n",
        "   plt.xlabel('Global PSQI Score')\n",
        "   plt.ylabel('Frequency')\n",
        "   plt.show()"
      ],
      "metadata": {
        "colab": {
          "base_uri": "https://localhost:8080/",
          "height": 487
        },
        "id": "E14VU6EcKDJ8",
        "outputId": "a925e7d1-b5d7-4928-c681-21b635efeb5f"
      },
      "execution_count": null,
      "outputs": [
        {
          "output_type": "display_data",
          "data": {
            "text/plain": [
              "<Figure size 1000x500 with 1 Axes>"
            ],
            "image/png": "[encoded data removed]"
          },
          "metadata": {}
        }
      ]
    },
    {
      "cell_type": "code",
      "source": [
        "correlation = df[['PSQI', 'ME']].corr()\n",
        "print(correlation)\n",
        "\n",
        "# The correlation coefficient between PSQI and ME is 0.150191.\n",
        "# This value indicates a positive correlation between sleep quality and minor medical errors.\n",
        "# Strength of the Correlation:\n",
        "# The correlation coefficient ranges from -1 to 1:\n",
        "# 0 indicates no correlation.\n",
        "# 1 indicates a perfect positive correlation.\n",
        "# -1 indicates a perfect negative correlation.\n",
        "# A correlation of 0.15 suggests a weak positive correlation. This means that as PSQI scores (indicating poorer sleep quality) increase, there is a slight tendency for the number of minor medical errors to increase as well, but the relationship is not strong.\n",
        "# Implications\n",
        "# 1. Weak Relationship:\n",
        "# The weak correlation suggests that while there may be some relationship between sleep quality and minor medical errors, it is not strong enough to conclude that poor sleep quality is a significant predictor of increased minor medical errors among nurses."
      ],
      "metadata": {
        "colab": {
          "base_uri": "https://localhost:8080/"
        },
        "id": "DBwOM29YL1pN",
        "outputId": "a5c19ae3-1d19-467d-af81-821d58a9736f"
      },
      "execution_count": null,
      "outputs": [
        {
          "output_type": "stream",
          "name": "stdout",
          "text": [
            "          PSQI        ME\n",
            "PSQI  1.000000  0.150191\n",
            "ME    0.150191  1.000000\n"
          ]
        }
      ]
    },
    {
      "cell_type": "code",
      "source": [
        "# Assuming df is your DataFrame already loaded with the data\n",
        "\n",
        "# Calculate total day and night shifts\n",
        "df['Total Day Shifts'] = df['DS1'] + df['DS2']\n",
        "df['Total Night Shifts'] = df['NS']\n",
        "\n",
        "# Initialize counters for errors\n",
        "day_shift_errors = 0\n",
        "night_shift_errors = 0\n",
        "day_shift_count = 0\n",
        "night_shift_count = 0\n",
        "\n",
        "# Loop through the data to categorize errors\n",
        "for i in range(len(df)):\n",
        "    if df['Total Day Shifts'][i] > 0:  # If the nurse worked day shifts\n",
        "        day_shift_errors += df['ME'][i]\n",
        "        day_shift_count += 1\n",
        "    if df['Total Night Shifts'][i] > 0:  # If the nurse worked night shifts\n",
        "        night_shift_errors += df['ME'][i]\n",
        "        night_shift_count += 1\n",
        "\n",
        "# Calculate average errors per shift type\n",
        "average_day_shift_errors = day_shift_errors / day_shift_count if day_shift_count > 0 else 0\n",
        "average_night_shift_errors = night_shift_errors / night_shift_count if night_shift_count > 0 else 0\n",
        "\n",
        "# Print the results\n",
        "print(f'Average Minor Medical Errors for Day Shifts: {average_day_shift_errors}')\n",
        "print(f'Average Minor Medical Errors for Night Shifts: {average_night_shift_errors}')"
      ],
      "metadata": {
        "colab": {
          "base_uri": "https://localhost:8080/"
        },
        "id": "I7n0wsTlNpv0",
        "outputId": "0cd2d4ee-c6e5-42c4-8cb0-cedd4dd03a8a"
      },
      "execution_count": null,
      "outputs": [
        {
          "output_type": "stream",
          "name": "stdout",
          "text": [
            "Average Minor Medical Errors for Day Shifts: 8.68231046931408\n",
            "Average Minor Medical Errors for Night Shifts: 8.80952380952381\n"
          ]
        }
      ]
    },
    {
      "cell_type": "code",
      "source": [
        "# Define experience threshold\n",
        "experience_threshold = 5  # Define the threshold for experienced vs. inexperienced\n",
        "\n",
        "# Initialize counters for errors\n",
        "experienced_errors = 0\n",
        "inexperienced_errors = 0\n",
        "experienced_count = 0\n",
        "inexperienced_count = 0\n",
        "\n",
        "# Loop through the data to categorize errors\n",
        "for i in range(len(df)):\n",
        "    if df['Experience'][i] > experience_threshold:  # Experienced\n",
        "        experienced_errors += df['ME'][i]\n",
        "        experienced_count += 1\n",
        "    else:  # Inexperienced\n",
        "        inexperienced_errors += df['ME'][i]\n",
        "        inexperienced_count += 1\n",
        "\n",
        "# Calculate average errors per experience level\n",
        "average_experienced_errors = experienced_errors / experienced_count if experienced_count > 0 else 0\n",
        "average_inexperienced_errors = inexperienced_errors / inexperienced_count if inexperienced_count > 0 else 0\n",
        "\n",
        "# Print the results\n",
        "print(f'Average Minor Medical Errors for Experienced Nurses: {average_experienced_errors}')\n",
        "print(f'Average Minor Medical Errors for Inexperienced Nurses: {average_inexperienced_errors}')"
      ],
      "metadata": {
        "colab": {
          "base_uri": "https://localhost:8080/"
        },
        "id": "1DU7B2e_PYi8",
        "outputId": "f15ae1cd-0ea7-468a-bf8a-198d05552198"
      },
      "execution_count": null,
      "outputs": [
        {
          "output_type": "stream",
          "name": "stdout",
          "text": [
            "Average Minor Medical Errors for Experienced Nurses: 0\n",
            "Average Minor Medical Errors for Inexperienced Nurses: 8.620071684587813\n"
          ]
        }
      ]
    }
  ]
}